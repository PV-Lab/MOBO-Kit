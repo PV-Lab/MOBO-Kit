{
 "cells": [
  {
   "cell_type": "markdown",
   "id": "feb7ccfd",
   "metadata": {},
   "source": [
    "# Initial Sampling: Latin Hypercube Design\n",
    "\n",
    "This notebook generates the initial design (Round 0) for the experiment using Latin hypercube sampling (via Emukit), and snaps those points to allowed grid values.\n",
    "\n",
    "Requirements:\n",
    "- `src/design.py`\n",
    "- `src/utils.py`\n"
   ]
  },
  {
   "cell_type": "code",
   "execution_count": null,
   "id": "d5fe411b",
   "metadata": {
    "vscode": {
     "languageId": "plaintext"
    }
   },
   "outputs": [],
   "source": [
    "import pandas as pd\n",
    "import numpy as np\n",
    "from src.design import generate_initial_design, get_variable_space\n",
    "from src.utils import get_closest_array\n",
    "\n",
    "# Generate Latin hypercube samples\n",
    "n_samples = 10\n",
    "design = generate_initial_design(n_samples)\n",
    "\n",
    "# Snap to valid grid values\n",
    "var_array = get_variable_space()\n",
    "snapped = get_closest_array(design, var_array)\n",
    "\n",
    "# Create DataFrame and save\n",
    "columns = ['speed_inorg', 'speed_org', 'inkFL_inorg', 'inkFL_org',\n",
    "           'conc_inorg', 'conc_org', 'humidity', 'temp']\n",
    "df = pd.DataFrame(snapped, columns=columns)\n",
    "\n",
    "df.to_csv(\"../data/processed/initial_design.csv\", index=False)\n",
    "df.head()"
   ]
  }
 ],
 "metadata": {
  "language_info": {
   "name": "python"
  }
 },
 "nbformat": 4,
 "nbformat_minor": 5
}
