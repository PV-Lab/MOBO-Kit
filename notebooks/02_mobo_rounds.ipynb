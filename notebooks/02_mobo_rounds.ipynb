{
 "cells": [
  {
   "cell_type": "markdown",
   "id": "0ec3f707",
   "metadata": {},
   "source": [
    "# Multi-Objective Bayesian Optimization (MOBO)\n",
    "\n",
    "This notebook loads experimental results, fits a multi-output GP using BoTorch, and proposes new candidates via qEHVI.\n",
    "\n",
    "Requirements:\n",
    "- `src/model.py`\n",
    "- `src/utils.py`\n",
    "- `data/raw/batch0_results.csv`"
   ]
  },
  {
   "cell_type": "code",
   "execution_count": null,
   "id": "a7db1132",
   "metadata": {
    "vscode": {
     "languageId": "plaintext"
    }
   },
   "outputs": [],
   "source": [
    "import pandas as pd\n",
    "import torch\n",
    "from src.utils import x_normalizer\n",
    "from src.model import fit_gp_models\n",
    "from botorch.acquisition.multi_objective.monte_carlo import qExpectedHypervolumeImprovement\n",
    "from botorch.utils.multi_objective.pareto import is_non_dominated\n",
    "from botorch.optim import optimize_acqf\n",
    "from botorch.sampling import SobolQMCNormalSampler\n",
    "from botorch.utils.multi_objective.box_decompositions import NondominatedPartitioning\n",
    "\n",
    "# Set precision\n",
    "torch.set_default_dtype(torch.float64)\n",
    "\n",
    "# Load and normalize data\n",
    "df = pd.read_csv(\"../data/raw/batch0_results.csv\")\n",
    "X = df.iloc[:, 0:8].values\n",
    "Y = df[['PCE', 'Stability', 'Repeatability']].values\n",
    "\n",
    "var_array = [X[:, i] for i in range(X.shape[1])]\n",
    "X_norm = torch.tensor(x_normalizer(X, var_array))\n",
    "Y_tensor = torch.tensor(Y, dtype=torch.float64)\n",
    "Y_scaled = (Y_tensor - Y_tensor.min(dim=0).values) / (Y_tensor.max(dim=0).values - Y_tensor.min(dim=0).values)\n",
    "\n",
    "# Fit model\n",
    "model = fit_gp_models(X_norm, Y_scaled)\n",
    "\n",
    "# Define acquisition function\n",
    "ref_point = Y_scaled.min(dim=0).values - 0.01\n",
    "partitioning = NondominatedPartitioning(ref_point=ref_point, Y=Y_scaled)\n",
    "acq = qExpectedHypervolumeImprovement(model=model, ref_point=ref_point, partitioning=partitioning, sampler=SobolQMCNormalSampler(num_samples=128))\n",
    "\n",
    "# Optimize acquisition\n",
    "bounds = torch.stack([torch.zeros(8), torch.ones(8)])\n",
    "candidates, _ = optimize_acqf(acq_function=acq, bounds=bounds, q=1, num_restarts=10, raw_samples=100)\n",
    "\n",
    "# Denormalize and snap to grid\n",
    "candidates_np = candidates.detach().numpy()\n",
    "suggested = get_closest_array(candidates_np, var_array)\n",
    "\n",
    "pd.DataFrame(suggested, columns=df.columns[:8])"
   ]
  }
 ],
 "metadata": {
  "language_info": {
   "name": "python"
  }
 },
 "nbformat": 4,
 "nbformat_minor": 5
}
